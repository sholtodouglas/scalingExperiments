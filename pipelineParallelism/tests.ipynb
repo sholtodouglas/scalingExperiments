{
 "cells": [
  {
   "cell_type": "code",
   "execution_count": 9,
   "metadata": {},
   "outputs": [],
   "source": [
    "from infra.utils import construct_cluster_names, scale_cluster, list_tpus, check_tpu, validate_cluster, get_pipelines\n",
    "from infra.config import  cluster_config, constant_args\n",
    "from infra.sentry import connect, run, clear_all, LEADER, tmux, tmux_shell\n",
    "\n",
    "from tqdm import tqdm"
   ]
  },
  {
   "cell_type": "code",
   "execution_count": 2,
   "metadata": {},
   "outputs": [
    {
     "data": {
      "text/plain": [
       "{'nodes': 4,\n",
       " 'pipeline_length': 2,\n",
       " 'name': 'test',\n",
       " 'project': 'learning-from-play-303306',\n",
       " 'accelerator_type': 'v2-8',\n",
       " 'zone': 'us-central1-f',\n",
       " 'preemptible': False,\n",
       " 'redis_password': '5241590000000000'}"
      ]
     },
     "execution_count": 2,
     "metadata": {},
     "output_type": "execute_result"
    }
   ],
   "source": [
    "\n",
    "# Our primary maintenence loop needs to do the following:\n",
    "\n",
    "# Get a list of TPUs\n",
    "\n",
    "# If a  TPU is active and has a spot in the pipelines then do nothing\n",
    "\n",
    "# If a TPU is not active, and it is in a pipeline, delete the TPU and halt all training loops in that pipeline.\n",
    "# (It was pre-empted and the others will be hanging waiting for it) Maybe we can set it up so that if a training loop is interrupted, it catches the \n",
    "cluster_config"
   ]
  },
  {
   "cell_type": "code",
   "execution_count": 20,
   "metadata": {},
   "outputs": [
    {
     "data": {
      "text/plain": [
       "{'name': 'projects/learning-from-play-303306/locations/us-central1-f/nodes/test-2',\n",
       " 'acceleratorType': 'v2-8',\n",
       " 'state': 'READY',\n",
       " 'runtimeVersion': 'v2-alpha',\n",
       " 'cidrBlock': '10.128.0.0/20',\n",
       " 'createTime': '2022-02-21T02:18:22.855697646Z',\n",
       " 'schedulingConfig': {},\n",
       " 'networkEndpoints': [{'ipAddress': '10.128.15.204',\n",
       "   'port': 8470,\n",
       "   'accessConfig': {'externalIp': '35.239.96.195'}}],\n",
       " 'health': 'HEALTHY',\n",
       " 'id': '4796306648445191617',\n",
       " 'networkConfig': {'network': 'projects/learning-from-play-303306/global/networks/default',\n",
       "  'subnetwork': 'projects/learning-from-play-303306/regions/us-central1/subnetworks/default',\n",
       "  'enableExternalIps': True},\n",
       " 'serviceAccount': {'email': '940527310713-compute@developer.gserviceaccount.com',\n",
       "  'scope': ['https://www.googleapis.com/auth/devstorage.read_write',\n",
       "   'https://www.googleapis.com/auth/logging.write',\n",
       "   'https://www.googleapis.com/auth/service.management',\n",
       "   'https://www.googleapis.com/auth/servicecontrol',\n",
       "   'https://www.googleapis.com/auth/cloud-platform',\n",
       "   'https://www.googleapis.com/auth/pubsub']},\n",
       " 'apiVersion': 'V2_ALPHA1',\n",
       " 'connection_object': <Connection host=35.239.96.195>}"
      ]
     },
     "execution_count": 20,
     "metadata": {},
     "output_type": "execute_result"
    }
   ],
   "source": [
    "operating_tpus[0]"
   ]
  },
  {
   "cell_type": "code",
   "execution_count": 4,
   "metadata": {},
   "outputs": [],
   "source": [
    "scale_cluster()"
   ]
  },
  {
   "cell_type": "code",
   "execution_count": 5,
   "metadata": {},
   "outputs": [],
   "source": [
    "# the next thing we need to do is look at avilable to make and create config\n",
    "\n",
    "\n",
    "valid_pipelines = get_pipelines()\n",
    "operating_tpus =  [tpu for pipeline in valid_pipelines for tpu in pipeline]"
   ]
  },
  {
   "cell_type": "code",
   "execution_count": 25,
   "metadata": {},
   "outputs": [],
   "source": [
    "connect()\n"
   ]
  },
  {
   "cell_type": "code",
   "execution_count": 27,
   "metadata": {},
   "outputs": [],
   "source": [
    "run('cd scalingExperiments/pipelineParallelism')"
   ]
  },
  {
   "cell_type": "code",
   "execution_count": 25,
   "metadata": {},
   "outputs": [],
   "source": [
    "run('git clone https://github.com/sholtodouglas/scalingExperiments')\n",
    "run('cd scalingExperiments/pipelineParallelism')\n",
    "run('pip install -U \"ray[default]\"')\n",
    "# add the ray scripts to path - they are not accessible by default\n",
    "run('echo \"export PATH=\"$HOME/.local/bin:$PATH\"\" >> ~/.bashrc')\n",
    "run('source ~/.bashrc')"
   ]
  },
  {
   "cell_type": "code",
   "execution_count": 32,
   "metadata": {},
   "outputs": [],
   "source": [
    "run('sudo apt-get update')\n",
    "run('sudo apt install -y libopenmpi-dev')\n",
    "run('pip install mpi4jax') # Todo this often doesn't get called .. I think b/c of the y?"
   ]
  },
  {
   "cell_type": "markdown",
   "metadata": {},
   "source": []
  },
  {
   "cell_type": "code",
   "execution_count": 17,
   "metadata": {},
   "outputs": [],
   "source": [
    "def copy_file(path, dest):\n",
    "    for tpu in tqdm(operating_tpus):\n",
    "        tpu['connection_object'].put(path, dest)\n",
    "\n"
   ]
  },
  {
   "cell_type": "code",
   "execution_count": 73,
   "metadata": {},
   "outputs": [
    {
     "name": "stderr",
     "output_type": "stream",
     "text": [
      "  0%|          | 0/4 [00:00<?, ?it/s]"
     ]
    },
    {
     "name": "stdout",
     "output_type": "stream",
     "text": [
      "StrictHostKeyChecking no\n"
     ]
    },
    {
     "name": "stderr",
     "output_type": "stream",
     "text": [
      " 25%|██▌       | 1/4 [00:03<00:11,  3.83s/it]"
     ]
    },
    {
     "name": "stdout",
     "output_type": "stream",
     "text": [
      "StrictHostKeyChecking no\n"
     ]
    },
    {
     "name": "stderr",
     "output_type": "stream",
     "text": [
      " 50%|█████     | 2/4 [00:07<00:07,  3.81s/it]"
     ]
    },
    {
     "name": "stdout",
     "output_type": "stream",
     "text": [
      "StrictHostKeyChecking no\n"
     ]
    },
    {
     "name": "stderr",
     "output_type": "stream",
     "text": [
      " 75%|███████▌  | 3/4 [00:11<00:03,  3.80s/it]"
     ]
    },
    {
     "name": "stdout",
     "output_type": "stream",
     "text": [
      "StrictHostKeyChecking no\n"
     ]
    },
    {
     "name": "stderr",
     "output_type": "stream",
     "text": [
      "100%|██████████| 4/4 [00:15<00:00,  3.79s/it]\n"
     ]
    }
   ],
   "source": [
    "import subprocess\n",
    "\n",
    "command = subprocess.run(\"ssh-keygen -t rsa -f id_rsa -N '' -C 'MPI Keys'\", shell=True)\n",
    "\n",
    "for tpu in tqdm(operating_tpus):\n",
    "    # Remove the strict host checking requirement\n",
    "    tpu['connection_object'].run('echo \"StrictHostKeyChecking no\" | sudo tee --append /etc/ssh/ssh_config')\n",
    "    # give every node the same ssh keys\n",
    "    tpu['connection_object'].put('id_rsa', '.ssh')\n",
    "    tpu['connection_object'].put('id_rsa.pub', '.ssh')\n",
    "    # put the public key in authorised keys for every node\n",
    "    tpu['connection_object'].run('cat .ssh/id_rsa.pub >> .ssh/authorized_keys')"
   ]
  },
  {
   "cell_type": "code",
   "execution_count": 74,
   "metadata": {},
   "outputs": [],
   "source": [
    "with open('infra/host_list', 'w') as f:\n",
    "    for idx, tpu  in enumerate(operating_tpus):\n",
    "        # f.write(+'\\n')\n",
    "        f.write(tpu['networkEndpoints'][0]['ipAddress']+ ' slots=1\\n')\n",
    "\n",
    "copy_file('infra/host_list', 'scalingExperiments/pipelineParallelism/infra')    \n"
   ]
  },
  {
   "cell_type": "code",
   "execution_count": 30,
   "metadata": {},
   "outputs": [
    {
     "name": "stderr",
     "output_type": "stream",
     "text": [
      "100%|██████████| 4/4 [00:05<00:00,  1.39s/it]\n"
     ]
    }
   ],
   "source": [
    "copy_file('infra/mpi_test.py', 'scalingExperiments/pipelineParallelism/infra')"
   ]
  },
  {
   "cell_type": "code",
   "execution_count": 78,
   "metadata": {},
   "outputs": [],
   "source": [
    "run('mpirun --hostfile infra/host_list python3 infra/mpi_test.py',0)"
   ]
  },
  {
   "cell_type": "code",
   "execution_count": 91,
   "metadata": {},
   "outputs": [],
   "source": [
    "run('^C')"
   ]
  },
  {
   "cell_type": "code",
   "execution_count": null,
   "metadata": {},
   "outputs": [],
   "source": [
    "#############################################################################################################################\n",
    "run('ray start --head --port=6379', LEADER)"
   ]
  },
  {
   "cell_type": "code",
   "execution_count": null,
   "metadata": {},
   "outputs": [],
   "source": [
    "# set up ray on all the follower nodes\n",
    "for idx, tpu  in enumerate(operating_tpus):\n",
    "    if idx != LEADER:\n",
    "        run(f\"ray start --address='{operating_tpus[LEADER]['networkEndpoints'][0]['ipAddress']}:6379' \\\n",
    "                        --redis-password='{cluster_config['redis_password']}'\", \\\n",
    "                        idx)"
   ]
  },
  {
   "cell_type": "code",
   "execution_count": null,
   "metadata": {},
   "outputs": [],
   "source": [
    "run('python3 infra/ray_test.py')"
   ]
  },
  {
   "cell_type": "code",
   "execution_count": 78,
   "metadata": {},
   "outputs": [
    {
     "data": {
      "text/plain": [
       "'--zone=us-central1-f --project=learning-from-play-303306'"
      ]
     },
     "execution_count": 78,
     "metadata": {},
     "output_type": "execute_result"
    }
   ],
   "source": [
    "constant_args"
   ]
  },
  {
   "cell_type": "markdown",
   "metadata": {},
   "source": [
    "run('ray stop')"
   ]
  },
  {
   "cell_type": "code",
   "execution_count": null,
   "metadata": {},
   "outputs": [],
   "source": [
    "10.128.15.204, 10.128.15.207, 10.128.15.201, 10.128.15.203"
   ]
  },
  {
   "cell_type": "code",
   "execution_count": null,
   "metadata": {},
   "outputs": [],
   "source": [
    "mpirun -np 1 --hostfile infra/host_list --host t1v-n-e23727e8-w-0 python3 infra/mpi_test.py"
   ]
  },
  {
   "cell_type": "code",
   "execution_count": 88,
   "metadata": {},
   "outputs": [],
   "source": [
    "run('ray stop')"
   ]
  },
  {
   "cell_type": "code",
   "execution_count": null,
   "metadata": {},
   "outputs": [],
   "source": [
    "run('pwd')"
   ]
  },
  {
   "cell_type": "code",
   "execution_count": null,
   "metadata": {},
   "outputs": [
    {
     "data": {
      "text/plain": [
       "{'error': {'code': 401,\n",
       "  'message': 'Request had invalid authentication credentials. Expected OAuth 2 access token, login cookie or other valid authentication credential. See https://developers.google.com/identity/sign-in/web/devconsole-project.',\n",
       "  'status': 'UNAUTHENTICATED',\n",
       "  'details': [{'@type': 'type.googleapis.com/google.rpc.ErrorInfo',\n",
       "    'reason': 'ACCESS_TOKEN_TYPE_UNSUPPORTED',\n",
       "    'metadata': {'method': 'google.cloud.tpu.v2alpha1.Tpu.ListNodes',\n",
       "     'service': 'tpu.googleapis.com'}}]}}"
      ]
     },
     "execution_count": 11,
     "metadata": {},
     "output_type": "execute_result"
    }
   ],
   "source": [
    "gcloud alpha compute scp infra/ray_test.py test-0:~/$HOME/"
   ]
  },
  {
   "cell_type": "code",
   "execution_count": null,
   "metadata": {},
   "outputs": [
    {
     "name": "stderr",
     "output_type": "stream",
     "text": [
      "  0%|          | 0/6 [00:00<?, ?it/s]"
     ]
    },
    {
     "name": "stdout",
     "output_type": "stream",
     "text": [
      "Validating cluster creation\n"
     ]
    },
    {
     "name": "stderr",
     "output_type": "stream",
     "text": [
      " 17%|█▋        | 1/6 [00:01<00:08,  1.78s/it]"
     ]
    },
    {
     "name": "stdout",
     "output_type": "stream",
     "text": [
      "TPU test_0 not found\n"
     ]
    },
    {
     "name": "stderr",
     "output_type": "stream",
     "text": [
      " 33%|███▎      | 2/6 [00:03<00:06,  1.63s/it]"
     ]
    },
    {
     "name": "stdout",
     "output_type": "stream",
     "text": [
      "TPU test_1 not found\n"
     ]
    },
    {
     "name": "stderr",
     "output_type": "stream",
     "text": [
      " 83%|████████▎ | 5/6 [00:08<00:01,  1.69s/it]"
     ]
    },
    {
     "name": "stdout",
     "output_type": "stream",
     "text": [
      "TPU test_4 not found\n"
     ]
    },
    {
     "name": "stderr",
     "output_type": "stream",
     "text": [
      "100%|██████████| 6/6 [00:14<00:00,  2.38s/it]\n"
     ]
    }
   ],
   "source": [
    "validate_cluster(cluster_config['nodes'])"
   ]
  },
  {
   "cell_type": "code",
   "execution_count": null,
   "metadata": {},
   "outputs": [],
   "source": [
    "tmux_shell(f\"gcloud alpha compute tpus tpu-vm ssh {'test2'} {constant_args} -- -L {8802}:localhost:{8802}\")"
   ]
  },
  {
   "cell_type": "code",
   "execution_count": null,
   "metadata": {},
   "outputs": [],
   "source": [
    "tmux(\"set -g pane-border-style bg=red fg=red\")"
   ]
  },
  {
   "cell_type": "code",
   "execution_count": null,
   "metadata": {},
   "outputs": [],
   "source": [
    "connect()"
   ]
  },
  {
   "cell_type": "code",
   "execution_count": null,
   "metadata": {},
   "outputs": [
    {
     "name": "stdout",
     "output_type": "stream",
     "text": [
      "\n"
     ]
    }
   ],
   "source": [
    "import subprocess\n",
    "\n",
    "command = subprocess.run(f\"netstat - ant | grep {8805}\",\n",
    "    capture_output=True,  # Capture the output (can be accessed via the .stdout member)\n",
    "    text=True,  # Capture output as text, not as bytes\n",
    "    shell=True)  # Run in shell. Required, because you use pipes.\n",
    "    \n",
    "device_port = command.stdout  # Get the output and convert it to an int\n",
    "print(device_port)  # Print the parsed port number"
   ]
  },
  {
   "cell_type": "code",
   "execution_count": null,
   "metadata": {},
   "outputs": [],
   "source": [
    "/home/sholto/.local│  WARNING: The scripts ray, ray-operator, rllib, serve and tune are installed in '/home/sholto/.local/\n",
    "/bin"
   ]
  },
  {
   "cell_type": "code",
   "execution_count": null,
   "metadata": {},
   "outputs": [
    {
     "data": {
      "text/plain": [
       "[sconn(fd=40, family=<AddressFamily.AF_INET: 2>, type=<SocketKind.SOCK_STREAM: 1>, laddr=addr(ip='127.0.0.1', port=43975), raddr=addr(ip='127.0.0.1', port=50414), status='ESTABLISHED', pid=13912),\n",
       " sconn(fd=23, family=<AddressFamily.AF_INET: 2>, type=<SocketKind.SOCK_STREAM: 1>, laddr=addr(ip='127.0.0.1', port=44969), raddr=(), status='LISTEN', pid=13912),\n",
       " sconn(fd=8, family=<AddressFamily.AF_INET: 2>, type=<SocketKind.SOCK_STREAM: 1>, laddr=addr(ip='127.0.0.1', port=3080), raddr=(), status='LISTEN', pid=2496),\n",
       " sconn(fd=131, family=<AddressFamily.AF_INET: 2>, type=<SocketKind.SOCK_STREAM: 1>, laddr=addr(ip='127.0.0.1', port=45942), raddr=addr(ip='127.0.0.1', port=8888), status='ESTABLISHED', pid=1071),\n",
       " sconn(fd=7, family=<AddressFamily.AF_INET: 2>, type=<SocketKind.SOCK_STREAM: 1>, laddr=addr(ip='127.0.0.1', port=3085), raddr=(), status='LISTEN', pid=2496),\n",
       " sconn(fd=18, family=<AddressFamily.AF_INET6: 10>, type=<SocketKind.SOCK_STREAM: 1>, laddr=addr(ip='::', port=7000), raddr=(), status='LISTEN', pid=15740),\n",
       " sconn(fd=-1, family=<AddressFamily.AF_INET: 2>, type=<SocketKind.SOCK_STREAM: 1>, laddr=addr(ip='127.0.0.1', port=8888), raddr=addr(ip='127.0.0.1', port=33794), status='TIME_WAIT', pid=None),\n",
       " sconn(fd=92, family=<AddressFamily.AF_INET: 2>, type=<SocketKind.SOCK_DGRAM: 2>, laddr=addr(ip='10.0.0.80', port=45826), raddr=addr(ip='142.250.66.238', port=443), status='NONE', pid=18958),\n",
       " sconn(fd=-1, family=<AddressFamily.AF_INET6: 10>, type=<SocketKind.SOCK_DGRAM: 2>, laddr=addr(ip='::', port=48506), raddr=(), status='NONE', pid=None),\n",
       " sconn(fd=-1, family=<AddressFamily.AF_INET: 2>, type=<SocketKind.SOCK_DGRAM: 2>, laddr=addr(ip='0.0.0.0', port=5353), raddr=(), status='NONE', pid=None),\n",
       " sconn(fd=16, family=<AddressFamily.AF_INET: 2>, type=<SocketKind.SOCK_STREAM: 1>, laddr=addr(ip='127.0.0.1', port=36655), raddr=(), status='LISTEN', pid=13912),\n",
       " sconn(fd=27, family=<AddressFamily.AF_INET: 2>, type=<SocketKind.SOCK_STREAM: 1>, laddr=addr(ip='127.0.0.1', port=45690), raddr=addr(ip='127.0.0.1', port=36655), status='ESTABLISHED', pid=5015),\n",
       " sconn(fd=6, family=<AddressFamily.AF_INET: 2>, type=<SocketKind.SOCK_STREAM: 1>, laddr=addr(ip='10.0.0.80', port=54706), raddr=addr(ip='172.217.167.74', port=443), status='CLOSE_WAIT', pid=12478),\n",
       " sconn(fd=97, family=<AddressFamily.AF_INET: 2>, type=<SocketKind.SOCK_DGRAM: 2>, laddr=addr(ip='10.0.0.80', port=40594), raddr=addr(ip='142.250.76.106', port=443), status='NONE', pid=18958),\n",
       " sconn(fd=18, family=<AddressFamily.AF_INET: 2>, type=<SocketKind.SOCK_STREAM: 1>, laddr=addr(ip='127.0.0.1', port=39853), raddr=(), status='LISTEN', pid=13912),\n",
       " sconn(fd=73, family=<AddressFamily.AF_INET: 2>, type=<SocketKind.SOCK_DGRAM: 2>, laddr=addr(ip='10.0.0.80', port=48355), raddr=addr(ip='142.250.67.14', port=443), status='NONE', pid=18958),\n",
       " sconn(fd=102, family=<AddressFamily.AF_INET: 2>, type=<SocketKind.SOCK_DGRAM: 2>, laddr=addr(ip='10.0.0.80', port=56992), raddr=addr(ip='142.250.66.206', port=443), status='NONE', pid=18958),\n",
       " sconn(fd=84, family=<AddressFamily.AF_INET: 2>, type=<SocketKind.SOCK_STREAM: 1>, laddr=addr(ip='10.0.0.80', port=49336), raddr=addr(ip='104.244.42.193', port=443), status='ESTABLISHED', pid=18958),\n",
       " sconn(fd=197, family=<AddressFamily.AF_INET: 2>, type=<SocketKind.SOCK_DGRAM: 2>, laddr=addr(ip='224.0.0.251', port=5353), raddr=(), status='NONE', pid=4769),\n",
       " sconn(fd=10, family=<AddressFamily.AF_INET: 2>, type=<SocketKind.SOCK_STREAM: 1>, laddr=addr(ip='127.0.0.1', port=8892), raddr=(), status='LISTEN', pid=2541),\n",
       " sconn(fd=79, family=<AddressFamily.AF_INET: 2>, type=<SocketKind.SOCK_DGRAM: 2>, laddr=addr(ip='10.0.0.80', port=55647), raddr=addr(ip='142.250.67.2', port=443), status='NONE', pid=18958),\n",
       " sconn(fd=-1, family=<AddressFamily.AF_INET: 2>, type=<SocketKind.SOCK_STREAM: 1>, laddr=addr(ip='127.0.0.1', port=8888), raddr=addr(ip='127.0.0.1', port=33764), status='TIME_WAIT', pid=None),\n",
       " sconn(fd=24, family=<AddressFamily.AF_INET: 2>, type=<SocketKind.SOCK_STREAM: 1>, laddr=addr(ip='127.0.0.1', port=50414), raddr=addr(ip='127.0.0.1', port=43975), status='ESTABLISHED', pid=5015),\n",
       " sconn(fd=159, family=<AddressFamily.AF_INET: 2>, type=<SocketKind.SOCK_STREAM: 1>, laddr=addr(ip='10.0.0.80', port=59176), raddr=addr(ip='104.45.184.134', port=443), status='ESTABLISHED', pid=18958),\n",
       " sconn(fd=56, family=<AddressFamily.AF_INET: 2>, type=<SocketKind.SOCK_STREAM: 1>, laddr=addr(ip='10.0.0.80', port=46406), raddr=addr(ip='104.18.72.113', port=443), status='ESTABLISHED', pid=18958),\n",
       " sconn(fd=10, family=<AddressFamily.AF_INET: 2>, type=<SocketKind.SOCK_STREAM: 1>, laddr=addr(ip='10.0.0.80', port=46160), raddr=addr(ip='10.0.0.138', port=139), status='ESTABLISHED', pid=13459),\n",
       " sconn(fd=42, family=<AddressFamily.AF_INET: 2>, type=<SocketKind.SOCK_STREAM: 1>, laddr=addr(ip='127.0.0.1', port=55619), raddr=addr(ip='127.0.0.1', port=48030), status='ESTABLISHED', pid=13912),\n",
       " sconn(fd=-1, family=<AddressFamily.AF_INET6: 10>, type=<SocketKind.SOCK_STREAM: 1>, laddr=addr(ip='::1', port=631), raddr=(), status='LISTEN', pid=None),\n",
       " sconn(fd=29, family=<AddressFamily.AF_INET: 2>, type=<SocketKind.SOCK_STREAM: 1>, laddr=addr(ip='127.0.0.1', port=48030), raddr=addr(ip='127.0.0.1', port=55619), status='ESTABLISHED', pid=5015),\n",
       " sconn(fd=142, family=<AddressFamily.AF_INET: 2>, type=<SocketKind.SOCK_STREAM: 1>, laddr=addr(ip='10.0.0.80', port=48286), raddr=addr(ip='104.18.98.194', port=443), status='ESTABLISHED', pid=18958),\n",
       " sconn(fd=5, family=<AddressFamily.AF_INET6: 10>, type=<SocketKind.SOCK_STREAM: 1>, laddr=addr(ip='::1', port=8805), raddr=(), status='LISTEN', pid=12526),\n",
       " sconn(fd=-1, family=<AddressFamily.AF_INET6: 10>, type=<SocketKind.SOCK_DGRAM: 2>, laddr=addr(ip='::', port=5353), raddr=(), status='NONE', pid=None),\n",
       " sconn(fd=-1, family=<AddressFamily.AF_INET: 2>, type=<SocketKind.SOCK_STREAM: 1>, laddr=addr(ip='127.0.0.53', port=53), raddr=(), status='LISTEN', pid=None),\n",
       " sconn(fd=44, family=<AddressFamily.AF_INET: 2>, type=<SocketKind.SOCK_DGRAM: 2>, laddr=addr(ip='10.0.0.80', port=48707), raddr=addr(ip='142.250.66.228', port=443), status='NONE', pid=18958),\n",
       " sconn(fd=6, family=<AddressFamily.AF_INET: 2>, type=<SocketKind.SOCK_STREAM: 1>, laddr=addr(ip='10.0.0.80', port=54704), raddr=addr(ip='172.217.167.74', port=443), status='CLOSE_WAIT', pid=12485),\n",
       " sconn(fd=88, family=<AddressFamily.AF_INET: 2>, type=<SocketKind.SOCK_STREAM: 1>, laddr=addr(ip='10.0.0.80', port=52966), raddr=addr(ip='13.35.147.59', port=443), status='ESTABLISHED', pid=18958),\n",
       " sconn(fd=-1, family=<AddressFamily.AF_INET: 2>, type=<SocketKind.SOCK_STREAM: 1>, laddr=addr(ip='127.0.0.1', port=8888), raddr=addr(ip='127.0.0.1', port=33792), status='TIME_WAIT', pid=None),\n",
       " sconn(fd=12, family=<AddressFamily.AF_INET: 2>, type=<SocketKind.SOCK_STREAM: 1>, laddr=addr(ip='127.0.0.1', port=43975), raddr=(), status='LISTEN', pid=13912),\n",
       " sconn(fd=-1, family=<AddressFamily.AF_INET: 2>, type=<SocketKind.SOCK_DGRAM: 2>, laddr=addr(ip='127.0.0.53', port=53), raddr=(), status='NONE', pid=None),\n",
       " sconn(fd=20, family=<AddressFamily.AF_INET: 2>, type=<SocketKind.SOCK_STREAM: 1>, laddr=addr(ip='127.0.0.1', port=39432), raddr=addr(ip='127.0.0.1', port=39853), status='ESTABLISHED', pid=5015),\n",
       " sconn(fd=131, family=<AddressFamily.AF_INET: 2>, type=<SocketKind.SOCK_DGRAM: 2>, laddr=addr(ip='127.0.0.1', port=39467), raddr=addr(ip='127.0.0.53', port=53), status='NONE', pid=11404),\n",
       " sconn(fd=-1, family=<AddressFamily.AF_INET: 2>, type=<SocketKind.SOCK_STREAM: 1>, laddr=addr(ip='127.0.0.1', port=8888), raddr=addr(ip='127.0.0.1', port=33752), status='TIME_WAIT', pid=None),\n",
       " sconn(fd=31, family=<AddressFamily.AF_INET: 2>, type=<SocketKind.SOCK_STREAM: 1>, laddr=addr(ip='127.0.0.1', port=59235), raddr=(), status='LISTEN', pid=13912),\n",
       " sconn(fd=121, family=<AddressFamily.AF_INET: 2>, type=<SocketKind.SOCK_STREAM: 1>, laddr=addr(ip='10.0.0.80', port=33198), raddr=addr(ip='157.240.8.18', port=443), status='ESTABLISHED', pid=18958),\n",
       " sconn(fd=7, family=<AddressFamily.AF_INET: 2>, type=<SocketKind.SOCK_STREAM: 1>, laddr=addr(ip='127.0.0.1', port=3333), raddr=(), status='LISTEN', pid=2555),\n",
       " sconn(fd=67, family=<AddressFamily.AF_INET: 2>, type=<SocketKind.SOCK_DGRAM: 2>, laddr=addr(ip='224.0.0.251', port=5353), raddr=(), status='NONE', pid=18958),\n",
       " sconn(fd=109, family=<AddressFamily.AF_INET: 2>, type=<SocketKind.SOCK_DGRAM: 2>, laddr=addr(ip='10.0.0.80', port=60801), raddr=addr(ip='172.217.194.155', port=443), status='NONE', pid=18958),\n",
       " sconn(fd=-1, family=<AddressFamily.AF_INET: 2>, type=<SocketKind.SOCK_DGRAM: 2>, laddr=addr(ip='0.0.0.0', port=45589), raddr=(), status='NONE', pid=None),\n",
       " sconn(fd=-1, family=<AddressFamily.AF_INET: 2>, type=<SocketKind.SOCK_DGRAM: 2>, laddr=addr(ip='0.0.0.0', port=68), raddr=(), status='NONE', pid=None),\n",
       " sconn(fd=140, family=<AddressFamily.AF_INET: 2>, type=<SocketKind.SOCK_STREAM: 1>, laddr=addr(ip='10.0.0.80', port=57724), raddr=addr(ip='104.16.53.111', port=443), status='ESTABLISHED', pid=18958),\n",
       " sconn(fd=68, family=<AddressFamily.AF_INET: 2>, type=<SocketKind.SOCK_DGRAM: 2>, laddr=addr(ip='10.0.0.80', port=36203), raddr=addr(ip='172.217.167.106', port=443), status='NONE', pid=18958),\n",
       " sconn(fd=-1, family=<AddressFamily.AF_INET: 2>, type=<SocketKind.SOCK_STREAM: 1>, laddr=addr(ip='127.0.0.1', port=8888), raddr=addr(ip='127.0.0.1', port=33770), status='TIME_WAIT', pid=None),\n",
       " sconn(fd=86, family=<AddressFamily.AF_INET: 2>, type=<SocketKind.SOCK_STREAM: 1>, laddr=addr(ip='10.0.0.80', port=33190), raddr=addr(ip='157.240.8.18', port=443), status='ESTABLISHED', pid=18958),\n",
       " sconn(fd=14, family=<AddressFamily.AF_INET: 2>, type=<SocketKind.SOCK_STREAM: 1>, laddr=addr(ip='127.0.0.1', port=55619), raddr=(), status='LISTEN', pid=13912),\n",
       " sconn(fd=43, family=<AddressFamily.AF_INET: 2>, type=<SocketKind.SOCK_STREAM: 1>, laddr=addr(ip='127.0.0.1', port=36655), raddr=addr(ip='127.0.0.1', port=45698), status='ESTABLISHED', pid=13912),\n",
       " sconn(fd=38, family=<AddressFamily.AF_INET: 2>, type=<SocketKind.SOCK_STREAM: 1>, laddr=addr(ip='10.0.0.80', port=33562), raddr=addr(ip='140.82.112.25', port=443), status='ESTABLISHED', pid=18958),\n",
       " sconn(fd=41, family=<AddressFamily.AF_INET: 2>, type=<SocketKind.SOCK_STREAM: 1>, laddr=addr(ip='10.0.0.80', port=57408), raddr=addr(ip='104.18.22.110', port=443), status='ESTABLISHED', pid=18958),\n",
       " sconn(fd=33, family=<AddressFamily.AF_INET: 2>, type=<SocketKind.SOCK_STREAM: 1>, laddr=addr(ip='127.0.0.1', port=45698), raddr=addr(ip='127.0.0.1', port=36655), status='ESTABLISHED', pid=5015),\n",
       " sconn(fd=3, family=<AddressFamily.AF_INET: 2>, type=<SocketKind.SOCK_STREAM: 1>, laddr=addr(ip='10.0.0.80', port=47344), raddr=addr(ip='35.194.58.18', port=22), status='ESTABLISHED', pid=12526),\n",
       " sconn(fd=-1, family=<AddressFamily.AF_INET: 2>, type=<SocketKind.SOCK_STREAM: 1>, laddr=addr(ip='127.0.0.1', port=8888), raddr=addr(ip='127.0.0.1', port=33766), status='TIME_WAIT', pid=None),\n",
       " sconn(fd=72, family=<AddressFamily.AF_INET: 2>, type=<SocketKind.SOCK_STREAM: 1>, laddr=addr(ip='10.0.0.80', port=56662), raddr=addr(ip='151.101.129.69', port=443), status='ESTABLISHED', pid=18958),\n",
       " sconn(fd=42, family=<AddressFamily.AF_INET: 2>, type=<SocketKind.SOCK_DGRAM: 2>, laddr=addr(ip='10.0.0.80', port=58866), raddr=addr(ip='142.251.10.189', port=443), status='NONE', pid=18958),\n",
       " sconn(fd=6, family=<AddressFamily.AF_INET: 2>, type=<SocketKind.SOCK_STREAM: 1>, laddr=addr(ip='127.0.0.1', port=8800), raddr=(), status='LISTEN', pid=12527),\n",
       " sconn(fd=9, family=<AddressFamily.AF_INET: 2>, type=<SocketKind.SOCK_STREAM: 1>, laddr=addr(ip='127.0.0.1', port=56022), raddr=addr(ip='127.0.0.1', port=3333), status='ESTABLISHED', pid=2496),\n",
       " sconn(fd=6, family=<AddressFamily.AF_INET: 2>, type=<SocketKind.SOCK_STREAM: 1>, laddr=addr(ip='127.0.0.1', port=8805), raddr=(), status='LISTEN', pid=12526),\n",
       " sconn(fd=5, family=<AddressFamily.AF_INET: 2>, type=<SocketKind.SOCK_STREAM: 1>, laddr=addr(ip='10.0.0.80', port=41590), raddr=addr(ip='142.250.204.10', port=443), status='CLOSE_WAIT', pid=12485),\n",
       " sconn(fd=5, family=<AddressFamily.AF_INET: 2>, type=<SocketKind.SOCK_STREAM: 1>, laddr=addr(ip='127.0.0.1', port=8888), raddr=(), status='LISTEN', pid=5015),\n",
       " sconn(fd=-1, family=<AddressFamily.AF_INET: 2>, type=<SocketKind.SOCK_STREAM: 1>, laddr=addr(ip='127.0.0.1', port=631), raddr=(), status='LISTEN', pid=None),\n",
       " sconn(fd=-1, family=<AddressFamily.AF_INET: 2>, type=<SocketKind.SOCK_STREAM: 1>, laddr=addr(ip='127.0.0.1', port=8888), raddr=addr(ip='127.0.0.1', port=33790), status='TIME_WAIT', pid=None),\n",
       " sconn(fd=144, family=<AddressFamily.AF_INET: 2>, type=<SocketKind.SOCK_STREAM: 1>, laddr=addr(ip='10.0.0.80', port=40116), raddr=addr(ip='13.236.17.252', port=443), status='ESTABLISHED', pid=18958),\n",
       " sconn(fd=69, family=<AddressFamily.AF_INET: 2>, type=<SocketKind.SOCK_STREAM: 1>, laddr=addr(ip='10.0.0.80', port=39242), raddr=addr(ip='162.159.135.234', port=443), status='ESTABLISHED', pid=18958),\n",
       " sconn(fd=5, family=<AddressFamily.AF_INET: 2>, type=<SocketKind.SOCK_STREAM: 1>, laddr=addr(ip='10.0.0.80', port=41584), raddr=addr(ip='142.250.204.10', port=443), status='CLOSE_WAIT', pid=12478),\n",
       " sconn(fd=-1, family=<AddressFamily.AF_INET: 2>, type=<SocketKind.SOCK_STREAM: 1>, laddr=addr(ip='127.0.0.1', port=8888), raddr=addr(ip='127.0.0.1', port=33754), status='TIME_WAIT', pid=None),\n",
       " sconn(fd=3, family=<AddressFamily.AF_INET: 2>, type=<SocketKind.SOCK_STREAM: 1>, laddr=addr(ip='10.0.0.80', port=36636), raddr=addr(ip='146.148.98.144', port=22), status='ESTABLISHED', pid=12527),\n",
       " sconn(fd=64, family=<AddressFamily.AF_INET: 2>, type=<SocketKind.SOCK_DGRAM: 2>, laddr=addr(ip='10.0.0.80', port=41092), raddr=addr(ip='142.250.67.3', port=443), status='NONE', pid=18958),\n",
       " sconn(fd=70, family=<AddressFamily.AF_INET: 2>, type=<SocketKind.SOCK_DGRAM: 2>, laddr=addr(ip='10.0.0.80', port=38478), raddr=addr(ip='172.217.167.66', port=443), status='NONE', pid=18958),\n",
       " sconn(fd=8, family=<AddressFamily.AF_INET: 2>, type=<SocketKind.SOCK_STREAM: 1>, laddr=addr(ip='127.0.0.1', port=3333), raddr=addr(ip='127.0.0.1', port=56020), status='ESTABLISHED', pid=2555),\n",
       " sconn(fd=45, family=<AddressFamily.AF_INET: 2>, type=<SocketKind.SOCK_STREAM: 1>, laddr=addr(ip='10.0.0.80', port=48824), raddr=addr(ip='142.250.66.197', port=443), status='ESTABLISHED', pid=18958),\n",
       " sconn(fd=9, family=<AddressFamily.AF_INET: 2>, type=<SocketKind.SOCK_STREAM: 1>, laddr=addr(ip='127.0.0.1', port=8891), raddr=(), status='LISTEN', pid=2541),\n",
       " sconn(fd=122, family=<AddressFamily.AF_INET: 2>, type=<SocketKind.SOCK_STREAM: 1>, laddr=addr(ip='10.0.0.80', port=50280), raddr=addr(ip='157.240.8.10', port=443), status='ESTABLISHED', pid=18958),\n",
       " sconn(fd=-1, family=<AddressFamily.AF_INET: 2>, type=<SocketKind.SOCK_STREAM: 1>, laddr=addr(ip='127.0.0.1', port=8888), raddr=addr(ip='127.0.0.1', port=33750), status='TIME_WAIT', pid=None),\n",
       " sconn(fd=38, family=<AddressFamily.AF_INET: 2>, type=<SocketKind.SOCK_STREAM: 1>, laddr=addr(ip='127.0.0.1', port=39853), raddr=addr(ip='127.0.0.1', port=39432), status='ESTABLISHED', pid=13912),\n",
       " sconn(fd=-1, family=<AddressFamily.AF_INET: 2>, type=<SocketKind.SOCK_STREAM: 1>, laddr=addr(ip='10.0.0.80', port=45730), raddr=addr(ip='13.35.147.115', port=443), status='TIME_WAIT', pid=None),\n",
       " sconn(fd=60, family=<AddressFamily.AF_INET: 2>, type=<SocketKind.SOCK_STREAM: 1>, laddr=addr(ip='10.0.0.80', port=56660), raddr=addr(ip='151.101.129.69', port=443), status='ESTABLISHED', pid=18958),\n",
       " sconn(fd=5, family=<AddressFamily.AF_INET6: 10>, type=<SocketKind.SOCK_STREAM: 1>, laddr=addr(ip='::1', port=8800), raddr=(), status='LISTEN', pid=12527),\n",
       " sconn(fd=41, family=<AddressFamily.AF_INET: 2>, type=<SocketKind.SOCK_STREAM: 1>, laddr=addr(ip='127.0.0.1', port=36655), raddr=addr(ip='127.0.0.1', port=45690), status='ESTABLISHED', pid=13912),\n",
       " sconn(fd=43, family=<AddressFamily.AF_INET: 2>, type=<SocketKind.SOCK_DGRAM: 2>, laddr=addr(ip='10.0.0.80', port=52467), raddr=addr(ip='142.250.66.234', port=443), status='NONE', pid=18958),\n",
       " sconn(fd=-1, family=<AddressFamily.AF_INET: 2>, type=<SocketKind.SOCK_DGRAM: 2>, laddr=addr(ip='0.0.0.0', port=631), raddr=(), status='NONE', pid=None),\n",
       " sconn(fd=54, family=<AddressFamily.AF_INET: 2>, type=<SocketKind.SOCK_STREAM: 1>, laddr=addr(ip='10.0.0.80', port=33010), raddr=addr(ip='104.244.42.2', port=443), status='ESTABLISHED', pid=18958),\n",
       " sconn(fd=9, family=<AddressFamily.AF_INET: 2>, type=<SocketKind.SOCK_STREAM: 1>, laddr=addr(ip='127.0.0.1', port=3333), raddr=addr(ip='127.0.0.1', port=56022), status='ESTABLISHED', pid=2555),\n",
       " sconn(fd=8, family=<AddressFamily.AF_INET: 2>, type=<SocketKind.SOCK_STREAM: 1>, laddr=addr(ip='127.0.0.1', port=56020), raddr=addr(ip='127.0.0.1', port=3333), status='ESTABLISHED', pid=2541),\n",
       " sconn(fd=104, family=<AddressFamily.AF_INET: 2>, type=<SocketKind.SOCK_STREAM: 1>, laddr=addr(ip='10.0.0.80', port=46410), raddr=addr(ip='104.18.72.113', port=443), status='ESTABLISHED', pid=18958),\n",
       " sconn(fd=22, family=<AddressFamily.AF_INET: 2>, type=<SocketKind.SOCK_STREAM: 1>, laddr=addr(ip='127.0.0.1', port=39434), raddr=addr(ip='127.0.0.1', port=39853), status='ESTABLISHED', pid=5015),\n",
       " sconn(fd=-1, family=<AddressFamily.AF_INET: 2>, type=<SocketKind.SOCK_STREAM: 1>, laddr=addr(ip='127.0.0.1', port=8888), raddr=addr(ip='127.0.0.1', port=33796), status='TIME_WAIT', pid=None),\n",
       " sconn(fd=58, family=<AddressFamily.AF_INET: 2>, type=<SocketKind.SOCK_STREAM: 1>, laddr=addr(ip='10.0.0.80', port=58198), raddr=addr(ip='172.66.40.102', port=443), status='ESTABLISHED', pid=18958),\n",
       " sconn(fd=26, family=<AddressFamily.AF_INET: 2>, type=<SocketKind.SOCK_STREAM: 1>, laddr=addr(ip='10.0.0.80', port=54368), raddr=addr(ip='104.18.22.110', port=443), status='ESTABLISHED', pid=18958),\n",
       " sconn(fd=-1, family=<AddressFamily.AF_INET: 2>, type=<SocketKind.SOCK_STREAM: 1>, laddr=addr(ip='127.0.0.1', port=8888), raddr=addr(ip='127.0.0.1', port=33778), status='TIME_WAIT', pid=None),\n",
       " sconn(fd=-1, family=<AddressFamily.AF_INET: 2>, type=<SocketKind.SOCK_STREAM: 1>, laddr=addr(ip='127.0.0.1', port=8888), raddr=addr(ip='127.0.0.1', port=33780), status='TIME_WAIT', pid=None),\n",
       " sconn(fd=-1, family=<AddressFamily.AF_INET: 2>, type=<SocketKind.SOCK_STREAM: 1>, laddr=addr(ip='127.0.0.1', port=8888), raddr=addr(ip='127.0.0.1', port=33768), status='TIME_WAIT', pid=None),\n",
       " sconn(fd=10, family=<AddressFamily.AF_INET: 2>, type=<SocketKind.SOCK_STREAM: 1>, laddr=addr(ip='127.0.0.1', port=8888), raddr=addr(ip='127.0.0.1', port=45942), status='ESTABLISHED', pid=5015),\n",
       " sconn(fd=66, family=<AddressFamily.AF_INET: 2>, type=<SocketKind.SOCK_STREAM: 1>, laddr=addr(ip='10.0.0.80', port=58668), raddr=addr(ip='34.237.73.95', port=443), status='ESTABLISHED', pid=18958),\n",
       " sconn(fd=137, family=<AddressFamily.AF_INET: 2>, type=<SocketKind.SOCK_STREAM: 1>, laddr=addr(ip='10.0.0.80', port=34056), raddr=addr(ip='23.48.251.43', port=443), status='ESTABLISHED', pid=18958),\n",
       " sconn(fd=93, family=<AddressFamily.AF_INET: 2>, type=<SocketKind.SOCK_STREAM: 1>, laddr=addr(ip='10.0.0.80', port=47328), raddr=addr(ip='151.101.52.193', port=443), status='ESTABLISHED', pid=18958),\n",
       " sconn(fd=74, family=<AddressFamily.AF_INET: 2>, type=<SocketKind.SOCK_STREAM: 1>, laddr=addr(ip='10.0.0.80', port=33906), raddr=addr(ip='192.0.73.2', port=443), status='ESTABLISHED', pid=18958),\n",
       " sconn(fd=37, family=<AddressFamily.AF_INET: 2>, type=<SocketKind.SOCK_STREAM: 1>, laddr=addr(ip='127.0.0.1', port=39853), raddr=addr(ip='127.0.0.1', port=39434), status='ESTABLISHED', pid=13912)]"
      ]
     },
     "execution_count": 170,
     "metadata": {},
     "output_type": "execute_result"
    }
   ],
   "source": [
    "\n"
   ]
  },
  {
   "cell_type": "code",
   "execution_count": null,
   "metadata": {},
   "outputs": [
    {
     "data": {
      "text/plain": [
       "[43975,\n",
       " 44969,\n",
       " 3080,\n",
       " 45942,\n",
       " 3085,\n",
       " 7000,\n",
       " 8888,\n",
       " 45826,\n",
       " 48506,\n",
       " 5353,\n",
       " 36655,\n",
       " 45690,\n",
       " 54706,\n",
       " 40594,\n",
       " 39853,\n",
       " 48355,\n",
       " 56992,\n",
       " 49336,\n",
       " 5353,\n",
       " 8892,\n",
       " 55647,\n",
       " 8888,\n",
       " 50414,\n",
       " 59176,\n",
       " 46406,\n",
       " 46160,\n",
       " 55619,\n",
       " 631,\n",
       " 48030,\n",
       " 48286,\n",
       " 8805,\n",
       " 5353,\n",
       " 53,\n",
       " 48707,\n",
       " 54704,\n",
       " 52966,\n",
       " 8888,\n",
       " 43975,\n",
       " 53,\n",
       " 39432,\n",
       " 39467,\n",
       " 8888,\n",
       " 59235,\n",
       " 33198,\n",
       " 3333,\n",
       " 5353,\n",
       " 60801,\n",
       " 45589,\n",
       " 68,\n",
       " 57724,\n",
       " 36203,\n",
       " 8888,\n",
       " 33190,\n",
       " 55619,\n",
       " 36655,\n",
       " 33562,\n",
       " 57408,\n",
       " 45698,\n",
       " 47344,\n",
       " 8888,\n",
       " 56662,\n",
       " 58866,\n",
       " 8800,\n",
       " 56022,\n",
       " 8805,\n",
       " 41590,\n",
       " 8888,\n",
       " 631,\n",
       " 8888,\n",
       " 40116,\n",
       " 39242,\n",
       " 41584,\n",
       " 8888,\n",
       " 36636,\n",
       " 41092,\n",
       " 38478,\n",
       " 3333,\n",
       " 48824,\n",
       " 8891,\n",
       " 50280,\n",
       " 8888,\n",
       " 39853,\n",
       " 45730,\n",
       " 56660,\n",
       " 8800,\n",
       " 36655,\n",
       " 52467,\n",
       " 631,\n",
       " 33010,\n",
       " 3333,\n",
       " 56020,\n",
       " 46410,\n",
       " 39434,\n",
       " 8888,\n",
       " 58198,\n",
       " 54368,\n",
       " 8888,\n",
       " 8888,\n",
       " 8888,\n",
       " 8888,\n",
       " 58668,\n",
       " 34056,\n",
       " 47328,\n",
       " 33906,\n",
       " 39853]"
      ]
     },
     "execution_count": 181,
     "metadata": {},
     "output_type": "execute_result"
    }
   ],
   "source": [
    "\n",
    "ports"
   ]
  },
  {
   "cell_type": "code",
   "execution_count": null,
   "metadata": {},
   "outputs": [],
   "source": [
    "make_tmux(6)"
   ]
  },
  {
   "cell_type": "code",
   "execution_count": null,
   "metadata": {},
   "outputs": [
    {
     "name": "stdout",
     "output_type": "stream",
     "text": [
      "Deleting test_1\n",
      "Starting test_1\n",
      "Deleting test_3\n",
      "Starting test_3\n",
      "Creating test_4\n",
      "{'name': 'projects/learning-from-play-303306/locations/us-central1-f/operations/operation-1643935665172-5d726995b2f90-f51e4767-e303dfb7', 'metadata': {'@type': 'type.googleapis.com/google.cloud.common.OperationMetadata', 'createTime': '2022-02-04T00:47:46.994482809Z', 'target': 'projects/learning-from-play-303306/locations/us-central1-f/nodes/test_4', 'verb': 'create', 'cancelRequested': False, 'apiVersion': 'v2alpha1'}, 'done': False}\n",
      "Creating test_5\n",
      "{'name': 'projects/learning-from-play-303306/locations/us-central1-f/operations/operation-1643935669267-5d7269999ace0-c9e483cb-0308fdfa', 'metadata': {'@type': 'type.googleapis.com/google.cloud.common.OperationMetadata', 'createTime': '2022-02-04T00:47:50.986263737Z', 'target': 'projects/learning-from-play-303306/locations/us-central1-f/nodes/test_5', 'verb': 'create', 'cancelRequested': False, 'apiVersion': 'v2alpha1'}, 'done': False}\n"
     ]
    }
   ],
   "source": [
    "scale_cluster(6)"
   ]
  },
  {
   "cell_type": "code",
   "execution_count": null,
   "metadata": {},
   "outputs": [
    {
     "data": {
      "text/plain": [
       "{'error': {'code': 404,\n",
       "  'message': \"Resource 'projects/learning-from-play-303306/locations/us-central1-f/nodes/test_1' was not found\",\n",
       "  'status': 'NOT_FOUND',\n",
       "  'details': [{'@type': 'type.googleapis.com/google.rpc.ResourceInfo',\n",
       "    'resourceName': 'projects/learning-from-play-303306/locations/us-central1-f/nodes/test_1'}]}}"
      ]
     },
     "execution_count": 71,
     "metadata": {},
     "output_type": "execute_result"
    }
   ],
   "source": [
    "check_tpu('test_1')"
   ]
  },
  {
   "cell_type": "code",
   "execution_count": null,
   "metadata": {},
   "outputs": [
    {
     "name": "stdout",
     "output_type": "stream",
     "text": [
      "Creating test_1\n",
      "{'name': 'projects/learning-from-play-303306/locations/us-central1-f/operations/operation-1643889519283-5d71bdad8cecc-cf195c1f-86a70427', 'metadata': {'@type': 'type.googleapis.com/google.cloud.common.OperationMetadata', 'createTime': '2022-02-03T11:58:41.098872920Z', 'target': 'projects/learning-from-play-303306/locations/us-central1-f/nodes/test_1', 'verb': 'create', 'cancelRequested': False, 'apiVersion': 'v2alpha1'}, 'done': False}\n"
     ]
    }
   ],
   "source": [
    "scale_cluster(4)"
   ]
  },
  {
   "cell_type": "code",
   "execution_count": null,
   "metadata": {},
   "outputs": [
    {
     "name": "stderr",
     "output_type": "stream",
     "text": [
      "  0%|          | 0/6 [00:00<?, ?it/s]"
     ]
    },
    {
     "name": "stdout",
     "output_type": "stream",
     "text": [
      "Validating cluster creation\n"
     ]
    },
    {
     "name": "stderr",
     "output_type": "stream",
     "text": [
      " 33%|███▎      | 2/6 [00:04<00:09,  2.33s/it]"
     ]
    },
    {
     "name": "stdout",
     "output_type": "stream",
     "text": [
      "TPU test_1 not found\n"
     ]
    },
    {
     "name": "stderr",
     "output_type": "stream",
     "text": [
      " 67%|██████▋   | 4/6 [00:09<00:04,  2.32s/it]"
     ]
    },
    {
     "name": "stdout",
     "output_type": "stream",
     "text": [
      "TPU test_3 not found\n"
     ]
    },
    {
     "name": "stderr",
     "output_type": "stream",
     "text": [
      "100%|██████████| 6/6 [00:14<00:00,  2.34s/it]\n"
     ]
    }
   ],
   "source": [
    "validate_cluster(6)"
   ]
  },
  {
   "cell_type": "code",
   "execution_count": null,
   "metadata": {},
   "outputs": [
    {
     "data": {
      "text/plain": [
       "[{'name': 'projects/learning-from-play-303306/locations/us-central1-f/nodes/test_4',\n",
       "  'acceleratorType': 'v2-8',\n",
       "  'state': 'PREEMPTED',\n",
       "  'runtimeVersion': 'v2-alpha',\n",
       "  'cidrBlock': '10.128.0.0/20',\n",
       "  'createTime': '2022-02-03T11:45:49.185763153Z',\n",
       "  'schedulingConfig': {'preemptible': True},\n",
       "  'networkEndpoints': [{'ipAddress': '10.128.0.24',\n",
       "    'port': 8470,\n",
       "    'accessConfig': {'externalIp': '34.72.165.227'}}],\n",
       "  'id': '5283112417578115423',\n",
       "  'networkConfig': {'network': 'projects/learning-from-play-303306/global/networks/default',\n",
       "   'subnetwork': 'projects/learning-from-play-303306/regions/us-central1/subnetworks/default',\n",
       "   'enableExternalIps': True},\n",
       "  'serviceAccount': {'email': '940527310713-compute@developer.gserviceaccount.com',\n",
       "   'scope': ['https://www.googleapis.com/auth/devstorage.read_write',\n",
       "    'https://www.googleapis.com/auth/logging.write',\n",
       "    'https://www.googleapis.com/auth/service.management',\n",
       "    'https://www.googleapis.com/auth/servicecontrol',\n",
       "    'https://www.googleapis.com/auth/cloud-platform',\n",
       "    'https://www.googleapis.com/auth/pubsub']},\n",
       "  'apiVersion': 'V2_ALPHA1'},\n",
       " {'name': 'projects/learning-from-play-303306/locations/us-central1-f/nodes/test_0',\n",
       "  'acceleratorType': 'v2-8',\n",
       "  'state': 'READY',\n",
       "  'runtimeVersion': 'v2-alpha',\n",
       "  'cidrBlock': '10.128.0.0/20',\n",
       "  'createTime': '2022-02-03T07:10:53.529731684Z',\n",
       "  'schedulingConfig': {'preemptible': True},\n",
       "  'networkEndpoints': [{'ipAddress': '10.128.0.19',\n",
       "    'port': 8470,\n",
       "    'accessConfig': {'externalIp': '34.136.42.245'}}],\n",
       "  'health': 'HEALTHY',\n",
       "  'id': '3793173239940360406',\n",
       "  'networkConfig': {'network': 'projects/learning-from-play-303306/global/networks/default',\n",
       "   'subnetwork': 'projects/learning-from-play-303306/regions/us-central1/subnetworks/default',\n",
       "   'enableExternalIps': True},\n",
       "  'serviceAccount': {'email': '940527310713-compute@developer.gserviceaccount.com',\n",
       "   'scope': ['https://www.googleapis.com/auth/devstorage.read_write',\n",
       "    'https://www.googleapis.com/auth/logging.write',\n",
       "    'https://www.googleapis.com/auth/service.management',\n",
       "    'https://www.googleapis.com/auth/servicecontrol',\n",
       "    'https://www.googleapis.com/auth/cloud-platform',\n",
       "    'https://www.googleapis.com/auth/pubsub']},\n",
       "  'apiVersion': 'V2_ALPHA1'},\n",
       " {'name': 'projects/learning-from-play-303306/locations/us-central1-f/nodes/test_2',\n",
       "  'acceleratorType': 'v2-8',\n",
       "  'state': 'READY',\n",
       "  'runtimeVersion': 'v2-alpha',\n",
       "  'cidrBlock': '10.128.0.0/20',\n",
       "  'createTime': '2022-02-03T07:11:00.207256833Z',\n",
       "  'schedulingConfig': {'preemptible': True},\n",
       "  'networkEndpoints': [{'ipAddress': '10.128.0.21',\n",
       "    'port': 8470,\n",
       "    'accessConfig': {'externalIp': '34.72.252.159'}}],\n",
       "  'health': 'HEALTHY',\n",
       "  'id': '7086103902946653172',\n",
       "  'networkConfig': {'network': 'projects/learning-from-play-303306/global/networks/default',\n",
       "   'subnetwork': 'projects/learning-from-play-303306/regions/us-central1/subnetworks/default',\n",
       "   'enableExternalIps': True},\n",
       "  'serviceAccount': {'email': '940527310713-compute@developer.gserviceaccount.com',\n",
       "   'scope': ['https://www.googleapis.com/auth/devstorage.read_write',\n",
       "    'https://www.googleapis.com/auth/logging.write',\n",
       "    'https://www.googleapis.com/auth/service.management',\n",
       "    'https://www.googleapis.com/auth/servicecontrol',\n",
       "    'https://www.googleapis.com/auth/cloud-platform',\n",
       "    'https://www.googleapis.com/auth/pubsub']},\n",
       "  'apiVersion': 'V2_ALPHA1'},\n",
       " {'name': 'projects/learning-from-play-303306/locations/us-central1-f/nodes/test_3',\n",
       "  'acceleratorType': 'v2-8',\n",
       "  'state': 'READY',\n",
       "  'runtimeVersion': 'v2-alpha',\n",
       "  'cidrBlock': '10.128.0.0/20',\n",
       "  'createTime': '2022-02-03T07:11:03.309823685Z',\n",
       "  'schedulingConfig': {'preemptible': True},\n",
       "  'networkEndpoints': [{'ipAddress': '10.128.0.22',\n",
       "    'port': 8470,\n",
       "    'accessConfig': {'externalIp': '104.198.50.55'}}],\n",
       "  'health': 'HEALTHY',\n",
       "  'id': '8230193944949485703',\n",
       "  'networkConfig': {'network': 'projects/learning-from-play-303306/global/networks/default',\n",
       "   'subnetwork': 'projects/learning-from-play-303306/regions/us-central1/subnetworks/default',\n",
       "   'enableExternalIps': True},\n",
       "  'serviceAccount': {'email': '940527310713-compute@developer.gserviceaccount.com',\n",
       "   'scope': ['https://www.googleapis.com/auth/devstorage.read_write',\n",
       "    'https://www.googleapis.com/auth/logging.write',\n",
       "    'https://www.googleapis.com/auth/service.management',\n",
       "    'https://www.googleapis.com/auth/servicecontrol',\n",
       "    'https://www.googleapis.com/auth/cloud-platform',\n",
       "    'https://www.googleapis.com/auth/pubsub']},\n",
       "  'apiVersion': 'V2_ALPHA1'}]"
      ]
     },
     "execution_count": 84,
     "metadata": {},
     "output_type": "execute_result"
    }
   ],
   "source": [
    "list_tpus()['nodes']"
   ]
  },
  {
   "cell_type": "code",
   "execution_count": null,
   "metadata": {},
   "outputs": [],
   "source": [
    "\n"
   ]
  },
  {
   "cell_type": "code",
   "execution_count": null,
   "metadata": {},
   "outputs": [],
   "source": [
    "\n"
   ]
  },
  {
   "cell_type": "code",
   "execution_count": null,
   "metadata": {},
   "outputs": [],
   "source": [
    "\n",
    "\n"
   ]
  },
  {
   "cell_type": "code",
   "execution_count": null,
   "metadata": {},
   "outputs": [
    {
     "data": {
      "text/plain": [
       "([({'test_0': [\"printf '\\x1b]2;%s\\x1b\\\\' 'test_0'\"]},),\n",
       "  ({'test_1': [\"printf '\\x1b]2;%s\\x1b\\\\' 'test_1'\"]},),\n",
       "  ({'test_2': [\"printf '\\x1b]2;%s\\x1b\\\\' 'test_2'\"]},),\n",
       "  ({'test_3': [\"printf '\\x1b]2;%s\\x1b\\\\' 'test_3'\"]},)],)"
      ]
     },
     "execution_count": 99,
     "metadata": {},
     "output_type": "execute_result"
    }
   ],
   "source": [
    "[make_pane(name) for name in names],"
   ]
  },
  {
   "cell_type": "code",
   "execution_count": null,
   "metadata": {},
   "outputs": [
    {
     "data": {
      "text/plain": [
       "([{'a': [1, 2]}, {'a': 'b'}],)"
      ]
     },
     "execution_count": 104,
     "metadata": {},
     "output_type": "execute_result"
    }
   ],
   "source": [
    "[{'a':[1,2]}, {'a':'b'}],"
   ]
  },
  {
   "cell_type": "code",
   "execution_count": null,
   "metadata": {},
   "outputs": [
    {
     "data": {
      "text/plain": [
       "\"printf '\\x1b]2;%s\\x1b\\\\' '5'\""
      ]
     },
     "execution_count": 110,
     "metadata": {},
     "output_type": "execute_result"
    }
   ],
   "source": [
    "f\"printf '\\033]2;%s\\033\\\\' '{name}'\""
   ]
  },
  {
   "cell_type": "code",
   "execution_count": null,
   "metadata": {},
   "outputs": [
    {
     "data": {
      "text/plain": [
       "'rty'"
      ]
     },
     "execution_count": 111,
     "metadata": {},
     "output_type": "execute_result"
    }
   ],
   "source": [
    "\"rty\""
   ]
  },
  {
   "cell_type": "code",
   "execution_count": null,
   "metadata": {},
   "outputs": [],
   "source": []
  }
 ],
 "metadata": {
  "interpreter": {
   "hash": "84224e6cb04e810c70e69ee2e4f5997326e9f53418a1c99b58d7bac4fdfe3a60"
  },
  "kernelspec": {
   "display_name": "Python 3.8.8 64-bit ('base': conda)",
   "language": "python",
   "name": "python3"
  },
  "language_info": {
   "codemirror_mode": {
    "name": "ipython",
    "version": 3
   },
   "file_extension": ".py",
   "mimetype": "text/x-python",
   "name": "python",
   "nbconvert_exporter": "python",
   "pygments_lexer": "ipython3",
   "version": "3.8.8"
  },
  "orig_nbformat": 4
 },
 "nbformat": 4,
 "nbformat_minor": 2
}
